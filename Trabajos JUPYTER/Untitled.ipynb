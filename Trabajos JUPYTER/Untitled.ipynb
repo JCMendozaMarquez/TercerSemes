{
 "cells": [
  {
   "cell_type": "markdown",
   "id": "d846c7df",
   "metadata": {},
   "source": [
    "### Ejercicio 1.-\n",
    "-Crear un vector \"V\" de sies componentes con entradas aleatorias entre 0 y 1, luego hallar el promedio de las componentes."
   ]
  },
  {
   "cell_type": "code",
   "execution_count": 7,
   "id": "f0bd5860",
   "metadata": {},
   "outputs": [],
   "source": [
    "import numpy as np\n",
    "from numpy import*"
   ]
  },
  {
   "cell_type": "code",
   "execution_count": null,
   "id": "070ee3af",
   "metadata": {},
   "outputs": [],
   "source": []
  },
  {
   "cell_type": "code",
   "execution_count": 19,
   "id": "d7442b22",
   "metadata": {},
   "outputs": [
    {
     "name": "stdout",
     "output_type": "stream",
     "text": [
      "[20, 10, 10, 50, 10]\n",
      "100\n",
      "20.0\n"
     ]
    }
   ],
   "source": [
    "vector=[20,10,10,50,10]\n",
    "vectorA=np.array(lista)\n",
    "print(vector)\n",
    "print(np.sum(vector))\n",
    "print(np.mean(vector))"
   ]
  },
  {
   "cell_type": "code",
   "execution_count": null,
   "id": "3da6dd93",
   "metadata": {},
   "outputs": [],
   "source": []
  },
  {
   "cell_type": "markdown",
   "id": "ded6e073",
   "metadata": {},
   "source": [
    "-Estudiante: Juan Carlos  Mendoza Marquez "
   ]
  },
  {
   "cell_type": "markdown",
   "id": "3b7bb655",
   "metadata": {},
   "source": [
    "### Ejercicio 2.-\n",
    "-Crear los vectores u=[1,4,6] y v=[-6,6,-3] y hallar\n",
    "--a) El modulo de ambos vectores \n",
    "---b) El producto escalar del vector u con el vector v \n",
    "---¿Es el vector u perpendicular al vector v?"
   ]
  },
  {
   "cell_type": "code",
   "execution_count": 29,
   "id": "4fb91e81",
   "metadata": {},
   "outputs": [
    {
     "name": "stdout",
     "output_type": "stream",
     "text": [
      "[1 4 6]\n",
      "[ 2  8 12]\n",
      "11\n",
      "3.3166247903554\n"
     ]
    }
   ],
   "source": [
    "u=[1,4,6]\n",
    "u=np.array(u)\n",
    "print(u)\n",
    "print(u*2)\n",
    "u1=(np.sum(u))\n",
    "print(np.sum(u))\n",
    "print(np.sqrt(u1))"
   ]
  },
  {
   "cell_type": "code",
   "execution_count": 35,
   "id": "eb117de1",
   "metadata": {},
   "outputs": [
    {
     "name": "stdout",
     "output_type": "stream",
     "text": [
      "[-6  6 -3]\n",
      "[-12  12  -6]\n",
      "-3\n"
     ]
    }
   ],
   "source": [
    "v=[-6,6,-3]\n",
    "v=np.array(v)\n",
    "print(v)\n",
    "print(v*2)\n",
    "v1=(np.sum(v))\n",
    "print(np.sum(v))\n",
    "#no se puede sacar una raiz negativa "
   ]
  },
  {
   "cell_type": "code",
   "execution_count": 37,
   "id": "ea6fbd21",
   "metadata": {},
   "outputs": [
    {
     "name": "stdout",
     "output_type": "stream",
     "text": [
      "[[ 1 -1  1]\n",
      " [ 1  4  6]\n",
      " [-6  6 -3]]\n"
     ]
    }
   ],
   "source": [
    "uv= np.array([[1,-1,1],\n",
    "              [1, 4, 6],\n",
    "              [-6, 6, -3]])\n",
    "print(uv)\n",
    "np.linalg.det(A)"
   ]
  },
  {
   "cell_type": "code",
   "execution_count": 8,
   "id": "a5f023cc",
   "metadata": {},
   "outputs": [
    {
     "name": "stdout",
     "output_type": "stream",
     "text": [
      "[[1 5 5 5 5]\n",
      " [5 2 5 5 5]\n",
      " [5 5 3 5 5]\n",
      " [5 5 5 4 5]\n",
      " [5 5 5 5 5]]\n"
     ]
    },
    {
     "data": {
      "text/plain": [
       "119.99999999999987"
      ]
     },
     "execution_count": 8,
     "metadata": {},
     "output_type": "execute_result"
    }
   ],
   "source": [
    "B=np.array([[ 1,  5, 5, 5, 5],\n",
    "            [ 5,  2, 5, 5, 5],\n",
    "            [ 5,  5, 3, 5, 5],\n",
    "            [ 5,  5, 5, 4, 5],\n",
    "            [ 5,  5, 5, 5, 5]])\n",
    "print(B)\n",
    "np.linalg.det(B) "
   ]
  },
  {
   "cell_type": "code",
   "execution_count": null,
   "id": "96dd47a7",
   "metadata": {},
   "outputs": [],
   "source": []
  },
  {
   "cell_type": "code",
   "execution_count": null,
   "id": "8aeb00ab",
   "metadata": {},
   "outputs": [],
   "source": []
  },
  {
   "cell_type": "code",
   "execution_count": null,
   "id": "f0bbed2f",
   "metadata": {},
   "outputs": [],
   "source": []
  }
 ],
 "metadata": {
  "kernelspec": {
   "display_name": "Python 3 (ipykernel)",
   "language": "python",
   "name": "python3"
  },
  "language_info": {
   "codemirror_mode": {
    "name": "ipython",
    "version": 3
   },
   "file_extension": ".py",
   "mimetype": "text/x-python",
   "name": "python",
   "nbconvert_exporter": "python",
   "pygments_lexer": "ipython3",
   "version": "3.9.12"
  }
 },
 "nbformat": 4,
 "nbformat_minor": 5
}

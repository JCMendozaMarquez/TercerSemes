{
 "cells": [
  {
   "cell_type": "code",
   "execution_count": 11,
   "id": "de419b32",
   "metadata": {},
   "outputs": [],
   "source": [
    "import numpy as np\n",
    "import sympy as sym"
   ]
  },
  {
   "cell_type": "markdown",
   "id": "daf28851",
   "metadata": {},
   "source": [
    "### -CODIFICACION"
   ]
  },
  {
   "cell_type": "code",
   "execution_count": 34,
   "id": "ee4e92f0",
   "metadata": {},
   "outputs": [
    {
     "name": "stdout",
     "output_type": "stream",
     "text": [
      "Palabra a codificar: Gracias\n",
      "Matriz Clave [[1 1 0]\n",
      " [1 0 1]\n",
      " [0 1 0]]\n",
      "-->PAR:  [[18]] [[8]] [[1]]\n",
      "--->PAR , codificado Q H A \n",
      "-->A_B:  [[1]] [[3]] [[0]]\n",
      "--->A_B , codificado A C _\n",
      "-->OLI:  [[0]] [[25]] [[12]]\n",
      "--->OLI , codificado _ X L\n",
      "-->VIA:  [[4]] [[24]] [[9]]\n",
      "--->VIA , codificado D W I\n",
      "Mensaje  codificado a enviar es : QHAAC__XLDNWI\n"
     ]
    }
   ],
   "source": [
    "#Abecedario Cifrado\n",
    "A,B,C,D,E,F,G,H,I,J,K,L,M,N,Ñ,O,P,Q,R,S,T,U,V,W,X,Y,Z,_=sym.symbols(\"A,B,C,D,E,F,G,H,I,J,K,L,M,N,Ñ,O,P,Q,R,S,T,U,V,W,X,Y,Z,_\")\n",
    "_=0\n",
    "A=1\n",
    "B=2\n",
    "C=3 \n",
    "D=4 \n",
    "E=5 \n",
    "F=6 \n",
    "G=7 \n",
    "H=8 \n",
    "I=9 \n",
    "J=10 \n",
    "K=11 \n",
    "L=12\n",
    "M=13 \n",
    "N=14 \n",
    "Ñ=15 \n",
    "O=16 \n",
    "P=17 \n",
    "Q=18 \n",
    "R=19 \n",
    "S=20 \n",
    "T=22 \n",
    "U=22 \n",
    "V=23 \n",
    "W=24 \n",
    "X=25 \n",
    "Y=26 \n",
    "Z=27\n",
    "\n",
    "#----Gracias---\n",
    "print(\"Palabra a codificar: Gracias\")\n",
    "#..Codificando--\n",
    "#MatrixClave \"A\"\n",
    "A_Clave=np.matrix([[1,1,0],[1,0,1],[0,1,0]])\n",
    "print (\"Matriz Clave\",A_Clave)\n",
    "       \n",
    "#Codificando-----PAR---\n",
    "COD1=A_Clave*np.matrix([[P],[A],[R]])\n",
    "#COD1\n",
    "COD1[0]%28\n",
    "COD1[1]%28\n",
    "COD1[2]%28\n",
    "#--------------------#\n",
    "COD2=A_Clave*np.matrix([[A],[_],[B]])\n",
    "COD2[0]%28\n",
    "COD2[1]%28\n",
    "COD2[2]%28\n",
    "#--------------------#\n",
    "COD3=A_Clave*np.matrix([[O],[L],[I]])\n",
    "COD3[0]%28\n",
    "COD3[1]%28\n",
    "COD3[2]%28\n",
    "#--------------------#\n",
    "COD4=A_Clave*np.matrix([[V],[I],[A]])\n",
    "COD4[0]%28\n",
    "COD4[1]%28\n",
    "COD4[2]%28\n",
    "#--------------------#\n",
    "print(\"-->PAR: \",COD1[0]%28,COD1[1]%28,COD1[2]%28)\n",
    "print(\"--->PAR , codificado Q H A \")\n",
    "#--------------------#\n",
    "print(\"-->A_B: \",COD2[0]%28,COD2[1]%28,COD2[2]%28)\n",
    "print(\"--->A_B , codificado A C _\")\n",
    "#--------------------#\n",
    "print(\"-->OLI: \",COD3[0]%28,COD3[1]%28,COD3[2]%28)\n",
    "print(\"--->OLI , codificado _ X L\")\n",
    "#--------------------#\n",
    "print(\"-->VIA: \",COD4[0]%28,COD4[1]%28,COD4[2]%28)\n",
    "print(\"--->VIA , codificado D W I\")\n",
    "#--------------------#\n",
    "#--------------------#\n",
    "print(\"-->>>Mensaje  codificado a enviar es : QHAAC__XLDNWI\")\n"
   ]
  },
  {
   "cell_type": "markdown",
   "id": "c2053203",
   "metadata": {},
   "source": [
    "## -DECODIFICACION"
   ]
  },
  {
   "cell_type": "code",
   "execution_count": 40,
   "id": "44e978dd",
   "metadata": {},
   "outputs": [
    {
     "name": "stdout",
     "output_type": "stream",
     "text": [
      "Matriz de descifrado: [[ 1.  0. -1.]\n",
      " [-0. -0.  1.]\n",
      " [-1.  1.  1.]]\n",
      "->QHA:  [[17.]] [[1.]] [[19.]]\n",
      "--->QHA , codificado P A R\n",
      "->AC_:  [[1.]] [[0.]] [[2.]]\n",
      "--->AC_ , codificado A _ B\n",
      "->_XL:  [[16.]] [[12.]] [[9.]]\n",
      "--->_XL , codificado O L I\n",
      "->DWI:  [[23.]] [[9.]] [[1.]]\n",
      "--->DWI , codificado V I A\n",
      "-->>>Mensaje  descifrado  es : PARA_BOLIVIA\n"
     ]
    }
   ],
   "source": [
    "#DESCIFRANDO EL MENSAJE\n",
    "# MATRIZ (LLAVE)\n",
    "A_inv=np.linalg.inv(A_Clave)\n",
    "print(\"Matriz de descifrado:\",A_inv)\n",
    "#------Codificado: QHA\n",
    "DEC1=A_inv*np.matrix([[Q],[H],[A]])\n",
    "#COD1\n",
    "DEC1[0]%28\n",
    "DEC1[1]%28\n",
    "DEC1[2]%28\n",
    "#------Codificado: AC_\n",
    "DEC2=A_inv*np.matrix([[A],[C],[_]])\n",
    "DEC2[0]%28\n",
    "DEC2[1]%28\n",
    "DEC2[2]%28\n",
    "#------Codificado: _XL\n",
    "DEC3=A_inv*np.matrix([[_],[X],[L]])\n",
    "DEC3[0]%28\n",
    "DEC3[1]%28\n",
    "DEC3[2]%28\n",
    "#------Codificado: DWI\n",
    "DEC4=A_inv*np.matrix([[D],[W],[I]])\n",
    "DEC4[0]%28\n",
    "DEC4[1]%28\n",
    "DEC4[2]%28\n",
    "#--------------------#\n",
    "print(\"->QHA: \",DEC1[0]%28,DEC1[1]%28,DEC1[2]%28)\n",
    "print(\"--->QHA , codificado P A R\")\n",
    "#--------------------#\n",
    "print(\"->AC_: \",DEC2[0]%28,DEC2[1]%28,DEC2[2]%28)\n",
    "print(\"--->AC_ , codificado A _ B\")\n",
    "#--------------------#\n",
    "print(\"->_XL: \",DEC3[0]%28,DEC3[1]%28,DEC3[2]%28)\n",
    "print(\"--->_XL , codificado O L I\")\n",
    "#--------------------#\n",
    "print(\"->DWI: \",DEC4[0]%28,DEC4[1]%28,DEC4[2]%28)\n",
    "print(\"--->DWI , codificado V I A\")\n",
    "#--------------------#\n",
    "#--------------------#\n",
    "print(\"-->>>Mensaje  descifrado  es : PARA_BOLIVIA\")\n"
   ]
  },
  {
   "cell_type": "code",
   "execution_count": null,
   "id": "5b659427",
   "metadata": {},
   "outputs": [],
   "source": []
  }
 ],
 "metadata": {
  "kernelspec": {
   "display_name": "Python 3 (ipykernel)",
   "language": "python",
   "name": "python3"
  },
  "language_info": {
   "codemirror_mode": {
    "name": "ipython",
    "version": 3
   },
   "file_extension": ".py",
   "mimetype": "text/x-python",
   "name": "python",
   "nbconvert_exporter": "python",
   "pygments_lexer": "ipython3",
   "version": "3.9.12"
  }
 },
 "nbformat": 4,
 "nbformat_minor": 5
}
